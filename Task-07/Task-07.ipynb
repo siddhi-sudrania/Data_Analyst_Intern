{
 "cells": [
  {
   "cell_type": "code",
   "execution_count": 1,
   "id": "3a34aa39-6edd-4653-a329-81e2055bc6a3",
   "metadata": {},
   "outputs": [],
   "source": [
    "import sqlite3"
   ]
  },
  {
   "cell_type": "code",
   "execution_count": 2,
   "id": "76508a88-5425-4a1a-97b9-b01d842eaede",
   "metadata": {},
   "outputs": [],
   "source": [
    "conn = sqlite3.connect(\"sales_data.db\")\n",
    "cursor = conn.cursor()"
   ]
  },
  {
   "cell_type": "code",
   "execution_count": 3,
   "id": "19c71d45-9f4a-4c41-a5c3-d48dca304ffd",
   "metadata": {},
   "outputs": [
    {
     "data": {
      "text/plain": [
       "<sqlite3.Cursor at 0x1efc42d77c0>"
      ]
     },
     "execution_count": 3,
     "metadata": {},
     "output_type": "execute_result"
    }
   ],
   "source": [
    "cursor.execute(\"\"\"\n",
    "CREATE TABLE IF NOT EXISTS sales (\n",
    "    id INTEGER PRIMARY KEY AUTOINCREMENT,\n",
    "    product TEXT,\n",
    "    quantity INTEGER,\n",
    "    price REAL\n",
    ")\n",
    "\"\"\")"
   ]
  },
  {
   "cell_type": "code",
   "execution_count": 4,
   "id": "6b82d6f4-a8e7-4163-9d33-5c834f32af7b",
   "metadata": {},
   "outputs": [],
   "source": [
    "sales_data = [\n",
    "    ('Apple', 10, 0.5),\n",
    "    ('Banana', 15, 0.3),\n",
    "    ('Orange', 8, 0.6),\n",
    "    ('Apple', 5, 0.5),\n",
    "    ('Banana', 10, 0.3),\n",
    "    ('Orange', 7, 0.6)\n",
    "]"
   ]
  },
  {
   "cell_type": "code",
   "execution_count": 5,
   "id": "685aadd0-642d-4803-8d4b-c910a38fcf4b",
   "metadata": {},
   "outputs": [],
   "source": [
    "cursor.executemany(\"INSERT INTO sales (product, quantity, price) VALUES (?, ?, ?)\", sales_data)\n",
    "conn.commit()\n",
    "conn.close()"
   ]
  },
  {
   "cell_type": "code",
   "execution_count": 6,
   "id": "3aff502c-e758-4559-9610-a911234d8ff0",
   "metadata": {},
   "outputs": [],
   "source": [
    "import pandas as pd\n",
    "import matplotlib.pyplot as plt"
   ]
  },
  {
   "cell_type": "code",
   "execution_count": 7,
   "id": "27336fff-fed1-40fc-834e-a5fb2b468f79",
   "metadata": {},
   "outputs": [],
   "source": [
    "conn = sqlite3.connect(\"sales_data.db\")"
   ]
  },
  {
   "cell_type": "code",
   "execution_count": 9,
   "id": "6b8f1bb5-c57e-440c-879e-9885fe91d03c",
   "metadata": {},
   "outputs": [],
   "source": [
    "query = \"\"\"\n",
    "SELECT \n",
    "    product, \n",
    "    SUM(quantity) AS total_qty, \n",
    "    SUM(quantity * price) AS revenue \n",
    "FROM sales \n",
    "GROUP BY product\n",
    "\"\"\""
   ]
  },
  {
   "cell_type": "code",
   "execution_count": 10,
   "id": "2169404b-1394-4242-b146-84f0458452b8",
   "metadata": {},
   "outputs": [],
   "source": [
    "df = pd.read_sql_query(query, conn)\n"
   ]
  },
  {
   "cell_type": "code",
   "execution_count": 11,
   "id": "4f3486ed-68a3-44e3-8c1b-e9217eed520a",
   "metadata": {},
   "outputs": [
    {
     "name": "stdout",
     "output_type": "stream",
     "text": [
      "📊 Sales Summary by Product:\n",
      "\n",
      "  product  total_qty  revenue\n",
      "0   Apple         30     15.0\n",
      "1  Banana         50     15.0\n",
      "2  Orange         30     18.0\n"
     ]
    }
   ],
   "source": [
    "print(\"📊 Sales Summary by Product:\\n\")\n",
    "print(df)"
   ]
  },
  {
   "cell_type": "code",
   "execution_count": 16,
   "id": "100f71bf-b324-4c13-982e-381998befc18",
   "metadata": {},
   "outputs": [],
   "source": [
    "overall_total = \"\"\"\n",
    "SELECT \n",
    "    SUM(quantity) AS grand_total_qty, \n",
    "    SUM(quantity * price) AS grand_revenue \n",
    "FROM sales\n",
    "\"\"\""
   ]
  },
  {
   "cell_type": "code",
   "execution_count": 17,
   "id": "6df6883b-ced0-4d5d-8e53-b310169bc40f",
   "metadata": {},
   "outputs": [],
   "source": [
    "df_total = pd.read_sql_query(overall_total, conn)"
   ]
  },
  {
   "cell_type": "code",
   "execution_count": 18,
   "id": "801c481e-c876-44be-a868-c291f9367357",
   "metadata": {},
   "outputs": [
    {
     "name": "stdout",
     "output_type": "stream",
     "text": [
      "\n",
      "🧾 Overall Sales Totals:\n",
      "\n",
      "   grand_total_qty  grand_revenue\n",
      "0              110           48.0\n"
     ]
    }
   ],
   "source": [
    "print(\"\\n🧾 Overall Sales Totals:\\n\")\n",
    "print(df_total)"
   ]
  },
  {
   "cell_type": "code",
   "execution_count": 19,
   "id": "d4bf342f-c291-40dc-9cfc-8904ac4b682d",
   "metadata": {},
   "outputs": [
    {
     "data": {
      "image/png": "[encoded data removed]",
      "text/plain": [
       "<Figure size 640x480 with 1 Axes>"
      ]
     },
     "metadata": {},
     "output_type": "display_data"
    }
   ],
   "source": [
    "df.plot(kind='bar', x='product', y='revenue', legend=False, color='skyblue')\n",
    "plt.title('Revenue by Product')\n",
    "plt.ylabel('Revenue')\n",
    "plt.tight_layout()\n",
    "plt.savefig(\"sales_chart.png\")  \n",
    "plt.show()"
   ]
  },
  {
   "cell_type": "code",
   "execution_count": 20,
   "id": "1e56e865-3cbf-41f7-b761-2bb8dc7918d9",
   "metadata": {},
   "outputs": [],
   "source": [
    "conn.close()"
   ]
  }
 ],
 "metadata": {
  "kernelspec": {
   "display_name": "Python 3 (ipykernel)",
   "language": "python",
   "name": "python3"
  },
  "language_info": {
   "codemirror_mode": {
    "name": "ipython",
    "version": 3
   },
   "file_extension": ".py",
   "mimetype": "text/x-python",
   "name": "python",
   "nbconvert_exporter": "python",
   "pygments_lexer": "ipython3",
   "version": "3.11.7"
  }
 },
 "nbformat": 4,
 "nbformat_minor": 5
}
